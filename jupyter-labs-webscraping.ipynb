{
 "cells": [
  {
   "cell_type": "markdown",
   "metadata": {},
   "source": [
    "<p style=\"text-align:center\">\n",
    "    <a href=\"https://skills.network/?utm_medium=Exinfluencer&utm_source=Exinfluencer&utm_content=000026UJ&utm_term=10006555&utm_id=NA-SkillsNetwork-Channel-SkillsNetworkCoursesIBMDS0321ENSkillsNetwork865-2023-01-01\">\n",
    "    <img src=\"https://cf-courses-data.s3.us.cloud-object-storage.appdomain.cloud/assets/logos/SN_web_lightmode.png\" width=\"200\" alt=\"Skills Network Logo\"  />\n",
    "    </a>\n",
    "</p>\n"
   ]
  },
  {
   "cell_type": "markdown",
   "metadata": {},
   "source": [
    "# **Space X  Falcon 9 First Stage Landing Prediction**\n"
   ]
  },
  {
   "cell_type": "markdown",
   "metadata": {},
   "source": [
    "## Web scraping Falcon 9 and Falcon Heavy Launches Records from Wikipedia\n"
   ]
  },
  {
   "cell_type": "markdown",
   "metadata": {},
   "source": [
    "Estimated time needed: **40** minutes\n"
   ]
  },
  {
   "cell_type": "markdown",
   "metadata": {},
   "source": [
    "In this lab, you will be performing web scraping to collect Falcon 9 historical launch records from a Wikipedia page titled `List of Falcon 9 and Falcon Heavy launches`\n",
    "\n",
    "https://en.wikipedia.org/wiki/List_of_Falcon_9_and_Falcon_Heavy_launches\n"
   ]
  },
  {
   "cell_type": "markdown",
   "metadata": {},
   "source": [
    "![](https://cf-courses-data.s3.us.cloud-object-storage.appdomain.cloud/IBM-DS0321EN-SkillsNetwork/labs/module_1_L2/images/Falcon9_rocket_family.svg)\n"
   ]
  },
  {
   "cell_type": "markdown",
   "metadata": {},
   "source": [
    "Falcon 9 first stage will land successfully\n"
   ]
  },
  {
   "cell_type": "markdown",
   "metadata": {},
   "source": [
    "![](https://cf-courses-data.s3.us.cloud-object-storage.appdomain.cloud/IBMDeveloperSkillsNetwork-DS0701EN-SkillsNetwork/api/Images/landing_1.gif)\n"
   ]
  },
  {
   "cell_type": "markdown",
   "metadata": {},
   "source": [
    "Several examples of an unsuccessful landing are shown here:\n"
   ]
  },
  {
   "cell_type": "markdown",
   "metadata": {},
   "source": [
    "![](https://cf-courses-data.s3.us.cloud-object-storage.appdomain.cloud/IBMDeveloperSkillsNetwork-DS0701EN-SkillsNetwork/api/Images/crash.gif)\n"
   ]
  },
  {
   "cell_type": "markdown",
   "metadata": {},
   "source": [
    "More specifically, the launch records are stored in a HTML table shown below:\n"
   ]
  },
  {
   "cell_type": "markdown",
   "metadata": {},
   "source": [
    "![](https://cf-courses-data.s3.us.cloud-object-storage.appdomain.cloud/IBM-DS0321EN-SkillsNetwork/labs/module_1_L2/images/falcon9-launches-wiki.png)\n"
   ]
  },
  {
   "cell_type": "markdown",
   "metadata": {},
   "source": [
    "  ## Objectives\n",
    "Web scrap Falcon 9 launch records with `BeautifulSoup`: \n",
    "- Extract a Falcon 9 launch records HTML table from Wikipedia\n",
    "- Parse the table and convert it into a Pandas data frame\n"
   ]
  },
  {
   "cell_type": "markdown",
   "metadata": {},
   "source": [
    "First let's import required packages for this lab\n"
   ]
  },
  {
   "cell_type": "code",
   "execution_count": 1,
   "metadata": {
    "tags": []
   },
   "outputs": [
    {
     "name": "stdout",
     "output_type": "stream",
     "text": [
      "Requirement already satisfied: beautifulsoup4 in /home/jupyterlab/conda/envs/python/lib/python3.7/site-packages (4.11.1)\n",
      "Requirement already satisfied: soupsieve>1.2 in /home/jupyterlab/conda/envs/python/lib/python3.7/site-packages (from beautifulsoup4) (2.3.2.post1)\n",
      "Requirement already satisfied: requests in /home/jupyterlab/conda/envs/python/lib/python3.7/site-packages (2.29.0)\n",
      "Requirement already satisfied: charset-normalizer<4,>=2 in /home/jupyterlab/conda/envs/python/lib/python3.7/site-packages (from requests) (3.1.0)\n",
      "Requirement already satisfied: idna<4,>=2.5 in /home/jupyterlab/conda/envs/python/lib/python3.7/site-packages (from requests) (3.4)\n",
      "Requirement already satisfied: urllib3<1.27,>=1.21.1 in /home/jupyterlab/conda/envs/python/lib/python3.7/site-packages (from requests) (1.26.15)\n",
      "Requirement already satisfied: certifi>=2017.4.17 in /home/jupyterlab/conda/envs/python/lib/python3.7/site-packages (from requests) (2023.5.7)\n"
     ]
    }
   ],
   "source": [
    "!pip3 install beautifulsoup4\n",
    "!pip3 install requests"
   ]
  },
  {
   "cell_type": "code",
   "execution_count": 2,
   "metadata": {
    "tags": []
   },
   "outputs": [],
   "source": [
    "import sys\n",
    "\n",
    "import requests\n",
    "from bs4 import BeautifulSoup\n",
    "import re\n",
    "import unicodedata\n",
    "import pandas as pd"
   ]
  },
  {
   "cell_type": "markdown",
   "metadata": {},
   "source": [
    "and we will provide some helper functions for you to process web scraped HTML table\n"
   ]
  },
  {
   "cell_type": "code",
   "execution_count": 3,
   "metadata": {
    "tags": []
   },
   "outputs": [],
   "source": [
    "def date_time(table_cells):\n",
    "    \"\"\"\n",
    "    This function returns the data and time from the HTML  table cell\n",
    "    Input: the  element of a table data cell extracts extra row\n",
    "    \"\"\"\n",
    "    return [data_time.strip() for data_time in list(table_cells.strings)][0:2]\n",
    "\n",
    "def booster_version(table_cells):\n",
    "    \"\"\"\n",
    "    This function returns the booster version from the HTML  table cell \n",
    "    Input: the  element of a table data cell extracts extra row\n",
    "    \"\"\"\n",
    "    out=''.join([booster_version for i,booster_version in enumerate( table_cells.strings) if i%2==0][0:-1])\n",
    "    return out\n",
    "\n",
    "def landing_status(table_cells):\n",
    "    \"\"\"\n",
    "    This function returns the landing status from the HTML table cell \n",
    "    Input: the  element of a table data cell extracts extra row\n",
    "    \"\"\"\n",
    "    out=[i for i in table_cells.strings][0]\n",
    "    return out\n",
    "\n",
    "\n",
    "def get_mass(table_cells):\n",
    "    mass=unicodedata.normalize(\"NFKD\", table_cells.text).strip()\n",
    "    if mass:\n",
    "        mass.find(\"kg\")\n",
    "        new_mass=mass[0:mass.find(\"kg\")+2]\n",
    "    else:\n",
    "        new_mass=0\n",
    "    return new_mass\n",
    "\n",
    "\n",
    "def extract_column_from_header(row):\n",
    "    \"\"\"\n",
    "    This function returns the landing status from the HTML table cell \n",
    "    Input: the  element of a table data cell extracts extra row\n",
    "    \"\"\"\n",
    "    if (row.br):\n",
    "        row.br.extract()\n",
    "    if row.a:\n",
    "        row.a.extract()\n",
    "    if row.sup:\n",
    "        row.sup.extract()\n",
    "        \n",
    "    colunm_name = ' '.join(row.contents)\n",
    "    \n",
    "    # Filter the digit and empty names\n",
    "    if not(colunm_name.strip().isdigit()):\n",
    "        colunm_name = colunm_name.strip()\n",
    "        return colunm_name    \n"
   ]
  },
  {
   "cell_type": "markdown",
   "metadata": {},
   "source": [
    "To keep the lab tasks consistent, you will be asked to scrape the data from a snapshot of the  `List of Falcon 9 and Falcon Heavy launches` Wikipage updated on\n",
    "`9th June 2021`\n"
   ]
  },
  {
   "cell_type": "code",
   "execution_count": 4,
   "metadata": {
    "tags": []
   },
   "outputs": [],
   "source": [
    "static_url = \"https://en.wikipedia.org/w/index.php?title=List_of_Falcon_9_and_Falcon_Heavy_launches&oldid=1027686922\""
   ]
  },
  {
   "cell_type": "markdown",
   "metadata": {},
   "source": [
    "Next, request the HTML page from the above URL and get a `response` object\n"
   ]
  },
  {
   "cell_type": "markdown",
   "metadata": {},
   "source": [
    "### TASK 1: Request the Falcon9 Launch Wiki page from its URL\n"
   ]
  },
  {
   "cell_type": "markdown",
   "metadata": {},
   "source": [
    "First, let's perform an HTTP GET method to request the Falcon9 Launch HTML page, as an HTTP response.\n"
   ]
  },
  {
   "cell_type": "code",
   "execution_count": 5,
   "metadata": {
    "tags": []
   },
   "outputs": [],
   "source": [
    "# use requests.get() method with the provided static_url\n",
    "response = requests.get(static_url)\n",
    "\n",
    "# assign the response to a object\n",
    "data = response.text"
   ]
  },
  {
   "cell_type": "markdown",
   "metadata": {},
   "source": [
    "Create a `BeautifulSoup` object from the HTML `response`\n"
   ]
  },
  {
   "cell_type": "code",
   "execution_count": 6,
   "metadata": {
    "tags": []
   },
   "outputs": [],
   "source": [
    "# Use BeautifulSoup() to create a BeautifulSoup object from a response text content\n",
    "soup = BeautifulSoup(data, 'html.parser')"
   ]
  },
  {
   "cell_type": "markdown",
   "metadata": {},
   "source": [
    "Print the page title to verify if the `BeautifulSoup` object was created properly \n"
   ]
  },
  {
   "cell_type": "code",
   "execution_count": 7,
   "metadata": {
    "tags": []
   },
   "outputs": [
    {
     "name": "stdout",
     "output_type": "stream",
     "text": [
      "List of Falcon 9 and Falcon Heavy launches - Wikipedia\n"
     ]
    }
   ],
   "source": [
    "# Use soup.title attribute\n",
    "for title in soup.find_all('title'):\n",
    "    print(title.get_text())"
   ]
  },
  {
   "cell_type": "markdown",
   "metadata": {},
   "source": [
    "### TASK 2: Extract all column/variable names from the HTML table header\n"
   ]
  },
  {
   "cell_type": "markdown",
   "metadata": {},
   "source": [
    "Next, we want to collect all relevant column names from the HTML table header\n"
   ]
  },
  {
   "cell_type": "markdown",
   "metadata": {},
   "source": [
    "Let's try to find all tables on the wiki page first. If you need to refresh your memory about `BeautifulSoup`, please check the external reference link towards the end of this lab\n"
   ]
  },
  {
   "cell_type": "code",
   "execution_count": 8,
   "metadata": {
    "tags": []
   },
   "outputs": [],
   "source": [
    "# Use the find_all function in the BeautifulSoup object, with element type `table`\n",
    "# Assign the result to a list called `html_tables`\n",
    "html_tables = []\n",
    "\n",
    "for table in soup.find_all('table'):\n",
    "    html_tables.append(table)"
   ]
  },
  {
   "cell_type": "markdown",
   "metadata": {},
   "source": [
    "Starting from the third table is our target table contains the actual launch records.\n"
   ]
  },
  {
   "cell_type": "code",
   "execution_count": 9,
   "metadata": {
    "tags": []
   },
   "outputs": [],
   "source": [
    "# Let's print the third table and check its content\n",
    "first_launch_table = html_tables[2]\n",
    "print(first_launch_table)"
   ]
  },
  {
   "cell_type": "markdown",
   "metadata": {},
   "source": [
    "You should able to see the columns names embedded in the table header elements `<th>` as follows:\n"
   ]
  },
  {
   "cell_type": "markdown",
   "metadata": {},
   "source": [
    "```\n",
    "<tr>\n",
    "<th scope=\"col\">Flight No.\n",
    "</th>\n",
    "<th scope=\"col\">Date and<br/>time (<a href=\"/wiki/Coordinated_Universal_Time\" title=\"Coordinated Universal Time\">UTC</a>)\n",
    "</th>\n",
    "<th scope=\"col\"><a href=\"/wiki/List_of_Falcon_9_first-stage_boosters\" title=\"List of Falcon 9 first-stage boosters\">Version,<br/>Booster</a> <sup class=\"reference\" id=\"cite_ref-booster_11-0\"><a href=\"#cite_note-booster-11\">[b]</a></sup>\n",
    "</th>\n",
    "<th scope=\"col\">Launch site\n",
    "</th>\n",
    "<th scope=\"col\">Payload<sup class=\"reference\" id=\"cite_ref-Dragon_12-0\"><a href=\"#cite_note-Dragon-12\">[c]</a></sup>\n",
    "</th>\n",
    "<th scope=\"col\">Payload mass\n",
    "</th>\n",
    "<th scope=\"col\">Orbit\n",
    "</th>\n",
    "<th scope=\"col\">Customer\n",
    "</th>\n",
    "<th scope=\"col\">Launch<br/>outcome\n",
    "</th>\n",
    "<th scope=\"col\"><a href=\"/wiki/Falcon_9_first-stage_landing_tests\" title=\"Falcon 9 first-stage landing tests\">Booster<br/>landing</a>\n",
    "</th></tr>\n",
    "```\n"
   ]
  },
  {
   "cell_type": "markdown",
   "metadata": {},
   "source": [
    "Next, we just need to iterate through the `<th>` elements and apply the provided `extract_column_from_header()` to extract column name one by one\n"
   ]
  },
  {
   "cell_type": "code",
   "execution_count": 21,
   "metadata": {
    "tags": []
   },
   "outputs": [],
   "source": [
    "column_names = []\n",
    "\n",
    "# Apply find_all() function with `th` element on first_launch_table\n",
    "# Iterate each th element and apply the provided extract_column_from_header() to get a column name\n",
    "# Append the Non-empty column name (`if name is not None and len(name) > 0`) into a list called column_names\n",
    "\n",
    "for row in first_launch_table.find_all('th'):\n",
    "    name = extract_column_from_header(row)\n",
    "    if name is not None and len(name) > 0:\n",
    "        column_names.append(name)\n",
    "\n",
    "#for row in soup.find_all('th'):\n",
    "#    name = extract_column_from_header(row)\n",
    "#    if name is not None and len(name) > 0:\n",
    "#        column_names.append(name)\n"
   ]
  },
  {
   "cell_type": "markdown",
   "metadata": {},
   "source": [
    "Check the extracted column names\n"
   ]
  },
  {
   "cell_type": "code",
   "execution_count": 22,
   "metadata": {
    "tags": []
   },
   "outputs": [
    {
     "name": "stdout",
     "output_type": "stream",
     "text": [
      "['Flight No.', 'Date and time ( )', 'Launch site', 'Payload', 'Payload mass', 'Orbit', 'Customer', 'Launch outcome']\n"
     ]
    }
   ],
   "source": [
    "print(column_names)"
   ]
  },
  {
   "cell_type": "markdown",
   "metadata": {},
   "source": [
    "## TASK 3: Create a data frame by parsing the launch HTML tables\n"
   ]
  },
  {
   "cell_type": "markdown",
   "metadata": {},
   "source": [
    "We will create an empty dictionary with keys from the extracted column names in the previous task. Later, this dictionary will be converted into a Pandas dataframe\n"
   ]
  },
  {
   "cell_type": "code",
   "execution_count": 23,
   "metadata": {
    "tags": []
   },
   "outputs": [],
   "source": [
    "launch_dict= dict.fromkeys(column_names)\n",
    "\n",
    "# Remove an irrelvant column\n",
    "del launch_dict['Date and time ( )']\n",
    "\n",
    "# Let's initial the launch_dict with each value to be an empty list\n",
    "launch_dict['Flight No.'] = []\n",
    "launch_dict['Launch site'] = []\n",
    "launch_dict['Payload'] = []\n",
    "launch_dict['Payload mass'] = []\n",
    "launch_dict['Orbit'] = []\n",
    "launch_dict['Customer'] = []\n",
    "launch_dict['Launch outcome'] = []\n",
    "# Added some new columns\n",
    "launch_dict['Version Booster']=[]\n",
    "launch_dict['Booster landing']=[]\n",
    "launch_dict['Date']=[]\n",
    "launch_dict['Time']=[]"
   ]
  },
  {
   "cell_type": "markdown",
   "metadata": {},
   "source": [
    "Next, we just need to fill up the `launch_dict` with launch records extracted from table rows.\n"
   ]
  },
  {
   "cell_type": "markdown",
   "metadata": {},
   "source": [
    "Usually, HTML tables in Wiki pages are likely to contain unexpected annotations and other types of noises, such as reference links `B0004.1[8]`, missing values `N/A [e]`, inconsistent formatting, etc.\n"
   ]
  },
  {
   "cell_type": "markdown",
   "metadata": {},
   "source": [
    "To simplify the parsing process, we have provided an incomplete code snippet below to help you to fill up the `launch_dict`. Please complete the following code snippet with TODOs or you can choose to write your own logic to parse all launch tables:\n"
   ]
  },
  {
   "cell_type": "code",
   "execution_count": 47,
   "metadata": {
    "tags": []
   },
   "outputs": [],
   "source": [
    "extracted_row = 0\n",
    "#Extract each table \n",
    "for table_number,table in enumerate(soup.find_all('table',\"wikitable plainrowheaders collapsible\")):\n",
    "   # get table row \n",
    "    for rows in table.find_all(\"tr\"):\n",
    "        #check to see if first table heading is as number corresponding to launch a number \n",
    "        if rows.th:\n",
    "            if rows.th.string:\n",
    "                flight_number=rows.th.string.strip()\n",
    "                flag=flight_number.isdigit()\n",
    "        else:\n",
    "            flag=False\n",
    "        #get table element \n",
    "        row=rows.find_all('td')\n",
    "        #if it is number save cells in a dictonary \n",
    "        if flag:\n",
    "            extracted_row += 1\n",
    "            # Flight Number value\n",
    "            # TODO: Append the flight_number into launch_dict with key `Flight No.`\n",
    "            launch_dict['Flight No.'].append(flight_number)\n",
    "            #print(flight_number)\n",
    "            datatimelist=date_time(row[0])\n",
    "            \n",
    "            # Date value\n",
    "            # TODO: Append the date into launch_dict with key `Date`\n",
    "            date = datatimelist[0].strip(',')\n",
    "            launch_dict['Date'].append(date)\n",
    "            #print(date)\n",
    "            \n",
    "            # Time value\n",
    "            # TODO: Append the time into launch_dict with key `Time`\n",
    "            time = datatimelist[1]\n",
    "            launch_dict['Time'].append(time)\n",
    "            #print(time)\n",
    "              \n",
    "            # Booster version\n",
    "            # TODO: Append the bv into launch_dict with key `Version Booster`\n",
    "            bv=booster_version(row[1])\n",
    "            if not(bv):\n",
    "                bv=row[1].a.string\n",
    "            launch_dict['Version Booster'].append(bv)\n",
    "            #print(bv)\n",
    "            \n",
    "            # Launch Site\n",
    "            # TODO: Append the bv into launch_dict with key `Launch Site`\n",
    "            launch_site = row[2].a.string\n",
    "            launch_dict['Launch site'].append(launch_site)\n",
    "            #print(launch_site)\n",
    "            \n",
    "            # Payload\n",
    "            # TODO: Append the payload into launch_dict with key `Payload`\n",
    "            payload = row[3].a.string\n",
    "            launch_dict['Payload'].append(payload)\n",
    "            #print(payload)\n",
    "            \n",
    "            # Payload Mass\n",
    "            # TODO: Append the payload_mass into launch_dict with key `Payload mass`\n",
    "            payload_mass = get_mass(row[4])\n",
    "            launch_dict['Payload mass'].append(payload_mass)\n",
    "            #print(payload)\n",
    "            \n",
    "            # Orbit\n",
    "            # TODO: Append the orbit into launch_dict with key `Orbit`\n",
    "            orbit = row[5].a.string\n",
    "            launch_dict['Orbit'].append(orbit)\n",
    "            #print(orbit)\n",
    "            \n",
    "            # Customer\n",
    "            # TODO: Append the customer into launch_dict with key `Customer`\n",
    "            if row[6].a is None:\n",
    "                customer = 'None'\n",
    "            else:\n",
    "                customer = row[6].a.text\n",
    "            launch_dict['Customer'].append(customer)\n",
    "            #print(customer)\n",
    "            \n",
    "            # Launch outcome\n",
    "            # TODO: Append the launch_outcome into launch_dict with key `Launch outcome`\n",
    "            launch_outcome = list(row[7].strings)[0]\n",
    "            launch_dict['Launch outcome'].append(launch_outcome)\n",
    "            #print(launch_outcome)\n",
    "            \n",
    "            # Booster landing\n",
    "            # TODO: Append the launch_outcome into launch_dict with key `Booster landing`\n",
    "            booster_landing = landing_status(row[8])\n",
    "            launch_dict['Booster landing'].append(booster_landing)\n",
    "            #print(booster_landing)\n",
    "            "
   ]
  },
  {
   "cell_type": "markdown",
   "metadata": {},
   "source": [
    "After you have fill in the parsed launch record values into `launch_dict`, you can create a dataframe from it.\n"
   ]
  },
  {
   "cell_type": "code",
   "execution_count": 48,
   "metadata": {
    "tags": []
   },
   "outputs": [],
   "source": [
    "df=pd.DataFrame.from_dict(launch_dict, orient='index')"
   ]
  },
  {
   "cell_type": "code",
   "execution_count": 50,
   "metadata": {
    "tags": []
   },
   "outputs": [
    {
     "data": {
      "text/html": [
       "<div>\n",
       "<style scoped>\n",
       "    .dataframe tbody tr th:only-of-type {\n",
       "        vertical-align: middle;\n",
       "    }\n",
       "\n",
       "    .dataframe tbody tr th {\n",
       "        vertical-align: top;\n",
       "    }\n",
       "\n",
       "    .dataframe thead th {\n",
       "        text-align: right;\n",
       "    }\n",
       "</style>\n",
       "<table border=\"1\" class=\"dataframe\">\n",
       "  <thead>\n",
       "    <tr style=\"text-align: right;\">\n",
       "      <th></th>\n",
       "      <th>0</th>\n",
       "      <th>1</th>\n",
       "      <th>2</th>\n",
       "      <th>3</th>\n",
       "      <th>4</th>\n",
       "      <th>5</th>\n",
       "      <th>6</th>\n",
       "      <th>7</th>\n",
       "      <th>8</th>\n",
       "      <th>9</th>\n",
       "      <th>...</th>\n",
       "      <th>1492</th>\n",
       "      <th>1493</th>\n",
       "      <th>1494</th>\n",
       "      <th>1495</th>\n",
       "      <th>1496</th>\n",
       "      <th>1497</th>\n",
       "      <th>1498</th>\n",
       "      <th>1499</th>\n",
       "      <th>1500</th>\n",
       "      <th>1501</th>\n",
       "    </tr>\n",
       "  </thead>\n",
       "  <tbody>\n",
       "    <tr>\n",
       "      <th>Flight No.</th>\n",
       "      <td>1</td>\n",
       "      <td>2</td>\n",
       "      <td>3</td>\n",
       "      <td>4</td>\n",
       "      <td>5</td>\n",
       "      <td>6</td>\n",
       "      <td>7</td>\n",
       "      <td>8</td>\n",
       "      <td>9</td>\n",
       "      <td>10</td>\n",
       "      <td>...</td>\n",
       "      <td>112</td>\n",
       "      <td>113</td>\n",
       "      <td>114</td>\n",
       "      <td>115</td>\n",
       "      <td>116</td>\n",
       "      <td>117</td>\n",
       "      <td>118</td>\n",
       "      <td>119</td>\n",
       "      <td>120</td>\n",
       "      <td>121</td>\n",
       "    </tr>\n",
       "    <tr>\n",
       "      <th>Launch site</th>\n",
       "      <td>CCAFS</td>\n",
       "      <td>CCAFS</td>\n",
       "      <td>CCAFS</td>\n",
       "      <td>CCAFS</td>\n",
       "      <td>CCAFS</td>\n",
       "      <td>VAFB</td>\n",
       "      <td>CCAFS</td>\n",
       "      <td>CCAFS</td>\n",
       "      <td>Cape Canaveral</td>\n",
       "      <td>Cape Canaveral</td>\n",
       "      <td>...</td>\n",
       "      <td>CCSFS</td>\n",
       "      <td>CCSFS</td>\n",
       "      <td>KSC</td>\n",
       "      <td>CCSFS</td>\n",
       "      <td>KSC</td>\n",
       "      <td>CCSFS</td>\n",
       "      <td>KSC</td>\n",
       "      <td>CCSFS</td>\n",
       "      <td>KSC</td>\n",
       "      <td>CCSFS</td>\n",
       "    </tr>\n",
       "    <tr>\n",
       "      <th>Payload</th>\n",
       "      <td>Dragon Spacecraft Qualification Unit</td>\n",
       "      <td>Dragon</td>\n",
       "      <td>Dragon</td>\n",
       "      <td>SpaceX CRS-1</td>\n",
       "      <td>SpaceX CRS-2</td>\n",
       "      <td>CASSIOPE</td>\n",
       "      <td>SES-8</td>\n",
       "      <td>Thaicom 6</td>\n",
       "      <td>SpaceX CRS-3</td>\n",
       "      <td>Orbcomm-OG2</td>\n",
       "      <td>...</td>\n",
       "      <td>Starlink</td>\n",
       "      <td>Starlink</td>\n",
       "      <td>Crew-2</td>\n",
       "      <td>Starlink</td>\n",
       "      <td>Starlink</td>\n",
       "      <td>Starlink</td>\n",
       "      <td>Starlink</td>\n",
       "      <td>Starlink</td>\n",
       "      <td>SpaceX CRS-22</td>\n",
       "      <td>SXM-8</td>\n",
       "    </tr>\n",
       "    <tr>\n",
       "      <th>Payload mass</th>\n",
       "      <td>0</td>\n",
       "      <td>0</td>\n",
       "      <td>525 kg</td>\n",
       "      <td>4,700 kg</td>\n",
       "      <td>4,877 kg</td>\n",
       "      <td>500 kg</td>\n",
       "      <td>3,170 kg</td>\n",
       "      <td>3,325 kg</td>\n",
       "      <td>2,296 kg</td>\n",
       "      <td>1,316 kg</td>\n",
       "      <td>...</td>\n",
       "      <td>15,600 kg</td>\n",
       "      <td>15,600 kg</td>\n",
       "      <td>~13,000 kg</td>\n",
       "      <td>15,600 kg</td>\n",
       "      <td>15,600 kg</td>\n",
       "      <td>15,600 kg</td>\n",
       "      <td>~14,000 kg</td>\n",
       "      <td>15,600 kg</td>\n",
       "      <td>3,328 kg</td>\n",
       "      <td>7,000 kg</td>\n",
       "    </tr>\n",
       "    <tr>\n",
       "      <th>Orbit</th>\n",
       "      <td>LEO</td>\n",
       "      <td>LEO</td>\n",
       "      <td>LEO</td>\n",
       "      <td>LEO</td>\n",
       "      <td>LEO</td>\n",
       "      <td>Polar orbit</td>\n",
       "      <td>GTO</td>\n",
       "      <td>GTO</td>\n",
       "      <td>LEO</td>\n",
       "      <td>LEO</td>\n",
       "      <td>...</td>\n",
       "      <td>LEO</td>\n",
       "      <td>LEO</td>\n",
       "      <td>LEO</td>\n",
       "      <td>LEO</td>\n",
       "      <td>LEO</td>\n",
       "      <td>LEO</td>\n",
       "      <td>LEO</td>\n",
       "      <td>LEO</td>\n",
       "      <td>LEO</td>\n",
       "      <td>GTO</td>\n",
       "    </tr>\n",
       "    <tr>\n",
       "      <th>Customer</th>\n",
       "      <td>SpaceX</td>\n",
       "      <td>NASA</td>\n",
       "      <td>NASA</td>\n",
       "      <td>NASA</td>\n",
       "      <td>NASA</td>\n",
       "      <td>MDA</td>\n",
       "      <td>SES</td>\n",
       "      <td>Thaicom</td>\n",
       "      <td>NASA</td>\n",
       "      <td>Orbcomm</td>\n",
       "      <td>...</td>\n",
       "      <td>NASA</td>\n",
       "      <td>Sirius XM</td>\n",
       "      <td>None</td>\n",
       "      <td>None</td>\n",
       "      <td>None</td>\n",
       "      <td>None</td>\n",
       "      <td>None</td>\n",
       "      <td>None</td>\n",
       "      <td>None</td>\n",
       "      <td>None</td>\n",
       "    </tr>\n",
       "    <tr>\n",
       "      <th>Launch outcome</th>\n",
       "      <td>Success\\n</td>\n",
       "      <td>Success</td>\n",
       "      <td>Success</td>\n",
       "      <td>Success\\n</td>\n",
       "      <td>Success\\n</td>\n",
       "      <td>Success</td>\n",
       "      <td>Success</td>\n",
       "      <td>Success</td>\n",
       "      <td>Success\\n</td>\n",
       "      <td>Success</td>\n",
       "      <td>...</td>\n",
       "      <td>Success\\n</td>\n",
       "      <td>Success\\n</td>\n",
       "      <td>None</td>\n",
       "      <td>None</td>\n",
       "      <td>None</td>\n",
       "      <td>None</td>\n",
       "      <td>None</td>\n",
       "      <td>None</td>\n",
       "      <td>None</td>\n",
       "      <td>None</td>\n",
       "    </tr>\n",
       "    <tr>\n",
       "      <th>Version Booster</th>\n",
       "      <td>F9 v1.0B0003.1</td>\n",
       "      <td>F9 v1.0B0004.1</td>\n",
       "      <td>F9 v1.0B0005.1</td>\n",
       "      <td>F9 v1.0B0006.1</td>\n",
       "      <td>F9 v1.0B0007.1</td>\n",
       "      <td>F9 v1.1B1003</td>\n",
       "      <td>F9 v1.1</td>\n",
       "      <td>F9 v1.1</td>\n",
       "      <td>F9 v1.1</td>\n",
       "      <td>F9 v1.1</td>\n",
       "      <td>...</td>\n",
       "      <td>F9 B5B1060.6</td>\n",
       "      <td>F9 B5 ♺</td>\n",
       "      <td>F9 B5B1061.2</td>\n",
       "      <td>F9 B5B1060.7</td>\n",
       "      <td>F9 B5B1049.9</td>\n",
       "      <td>F9 B5B1051.10</td>\n",
       "      <td>F9 B5B1058.8</td>\n",
       "      <td>F9 B5B1063.2</td>\n",
       "      <td>F9 B5B1067.1</td>\n",
       "      <td>F9 B5</td>\n",
       "    </tr>\n",
       "    <tr>\n",
       "      <th>Booster landing</th>\n",
       "      <td>Failure</td>\n",
       "      <td>Failure</td>\n",
       "      <td>No attempt\\n</td>\n",
       "      <td>No attempt</td>\n",
       "      <td>No attempt\\n</td>\n",
       "      <td>Uncontrolled</td>\n",
       "      <td>No attempt</td>\n",
       "      <td>No attempt</td>\n",
       "      <td>Controlled</td>\n",
       "      <td>Controlled</td>\n",
       "      <td>...</td>\n",
       "      <td>Success</td>\n",
       "      <td>Success</td>\n",
       "      <td>None</td>\n",
       "      <td>None</td>\n",
       "      <td>None</td>\n",
       "      <td>None</td>\n",
       "      <td>None</td>\n",
       "      <td>None</td>\n",
       "      <td>None</td>\n",
       "      <td>None</td>\n",
       "    </tr>\n",
       "    <tr>\n",
       "      <th>Date</th>\n",
       "      <td>4 June 2010</td>\n",
       "      <td>8 December 2010</td>\n",
       "      <td>22 May 2012</td>\n",
       "      <td>8 October 2012</td>\n",
       "      <td>1 March 2013</td>\n",
       "      <td>29 September 2013</td>\n",
       "      <td>3 December 2013</td>\n",
       "      <td>6 January 2014</td>\n",
       "      <td>18 April 2014</td>\n",
       "      <td>14 July 2014</td>\n",
       "      <td>...</td>\n",
       "      <td>24 March 2021</td>\n",
       "      <td>7 April 2021</td>\n",
       "      <td>23 April 2021</td>\n",
       "      <td>29 April 2021</td>\n",
       "      <td>4 May 2021</td>\n",
       "      <td>9 May 2021</td>\n",
       "      <td>15 May 2021</td>\n",
       "      <td>26 May 2021</td>\n",
       "      <td>3 June 2021</td>\n",
       "      <td>6 June 2021</td>\n",
       "    </tr>\n",
       "    <tr>\n",
       "      <th>Time</th>\n",
       "      <td>18:45</td>\n",
       "      <td>15:43</td>\n",
       "      <td>07:44</td>\n",
       "      <td>00:35</td>\n",
       "      <td>15:10</td>\n",
       "      <td>16:00</td>\n",
       "      <td>22:41</td>\n",
       "      <td>22:06</td>\n",
       "      <td>19:25</td>\n",
       "      <td>15:15</td>\n",
       "      <td>...</td>\n",
       "      <td>08:28</td>\n",
       "      <td>16:34</td>\n",
       "      <td>9:49</td>\n",
       "      <td>03:44</td>\n",
       "      <td>19:01</td>\n",
       "      <td>06:42</td>\n",
       "      <td>22:56</td>\n",
       "      <td>18:59</td>\n",
       "      <td>17:29</td>\n",
       "      <td>04:26</td>\n",
       "    </tr>\n",
       "  </tbody>\n",
       "</table>\n",
       "<p>11 rows × 1502 columns</p>\n",
       "</div>"
      ],
      "text/plain": [
       "                                                 0                1     \\\n",
       "Flight No.                                          1                2   \n",
       "Launch site                                     CCAFS            CCAFS   \n",
       "Payload          Dragon Spacecraft Qualification Unit           Dragon   \n",
       "Payload mass                                        0                0   \n",
       "Orbit                                             LEO              LEO   \n",
       "Customer                                       SpaceX             NASA   \n",
       "Launch outcome                              Success\\n          Success   \n",
       "Version Booster                        F9 v1.0B0003.1   F9 v1.0B0004.1   \n",
       "Booster landing                               Failure          Failure   \n",
       "Date                                      4 June 2010  8 December 2010   \n",
       "Time                                            18:45            15:43   \n",
       "\n",
       "                           2               3               4     \\\n",
       "Flight No.                    3               4               5   \n",
       "Launch site               CCAFS           CCAFS           CCAFS   \n",
       "Payload                  Dragon    SpaceX CRS-1    SpaceX CRS-2   \n",
       "Payload mass             525 kg        4,700 kg        4,877 kg   \n",
       "Orbit                       LEO             LEO             LEO   \n",
       "Customer                   NASA            NASA            NASA   \n",
       "Launch outcome          Success       Success\\n       Success\\n   \n",
       "Version Booster  F9 v1.0B0005.1  F9 v1.0B0006.1  F9 v1.0B0007.1   \n",
       "Booster landing    No attempt\\n      No attempt    No attempt\\n   \n",
       "Date                22 May 2012  8 October 2012    1 March 2013   \n",
       "Time                      07:44           00:35           15:10   \n",
       "\n",
       "                              5                6               7     \\\n",
       "Flight No.                       6                7               8   \n",
       "Launch site                   VAFB            CCAFS           CCAFS   \n",
       "Payload                   CASSIOPE            SES-8       Thaicom 6   \n",
       "Payload mass                500 kg         3,170 kg        3,325 kg   \n",
       "Orbit                  Polar orbit              GTO             GTO   \n",
       "Customer                       MDA              SES         Thaicom   \n",
       "Launch outcome             Success          Success         Success   \n",
       "Version Booster       F9 v1.1B1003          F9 v1.1         F9 v1.1   \n",
       "Booster landing       Uncontrolled       No attempt      No attempt   \n",
       "Date             29 September 2013  3 December 2013  6 January 2014   \n",
       "Time                         16:00            22:41           22:06   \n",
       "\n",
       "                           8               9     ...           1492  \\\n",
       "Flight No.                    9              10  ...            112   \n",
       "Launch site      Cape Canaveral  Cape Canaveral  ...          CCSFS   \n",
       "Payload            SpaceX CRS-3     Orbcomm-OG2  ...       Starlink   \n",
       "Payload mass           2,296 kg        1,316 kg  ...      15,600 kg   \n",
       "Orbit                       LEO             LEO  ...            LEO   \n",
       "Customer                   NASA         Orbcomm  ...           NASA   \n",
       "Launch outcome        Success\\n         Success  ...      Success\\n   \n",
       "Version Booster         F9 v1.1         F9 v1.1  ...   F9 B5B1060.6   \n",
       "Booster landing      Controlled      Controlled  ...        Success   \n",
       "Date              18 April 2014    14 July 2014  ...  24 March 2021   \n",
       "Time                      19:25           15:15  ...          08:28   \n",
       "\n",
       "                         1493           1494           1495          1496  \\\n",
       "Flight No.                113            114            115           116   \n",
       "Launch site             CCSFS            KSC          CCSFS           KSC   \n",
       "Payload              Starlink         Crew-2       Starlink      Starlink   \n",
       "Payload mass        15,600 kg     ~13,000 kg      15,600 kg     15,600 kg   \n",
       "Orbit                     LEO            LEO            LEO           LEO   \n",
       "Customer            Sirius XM           None           None          None   \n",
       "Launch outcome      Success\\n           None           None          None   \n",
       "Version Booster       F9 B5 ♺   F9 B5B1061.2   F9 B5B1060.7  F9 B5B1049.9   \n",
       "Booster landing       Success           None           None          None   \n",
       "Date             7 April 2021  23 April 2021  29 April 2021    4 May 2021   \n",
       "Time                    16:34           9:49          03:44         19:01   \n",
       "\n",
       "                          1497          1498          1499           1500  \\\n",
       "Flight No.                 117           118           119            120   \n",
       "Launch site              CCSFS           KSC         CCSFS            KSC   \n",
       "Payload               Starlink      Starlink      Starlink  SpaceX CRS-22   \n",
       "Payload mass         15,600 kg    ~14,000 kg     15,600 kg       3,328 kg   \n",
       "Orbit                      LEO           LEO           LEO            LEO   \n",
       "Customer                  None          None          None           None   \n",
       "Launch outcome            None          None          None           None   \n",
       "Version Booster  F9 B5B1051.10  F9 B5B1058.8  F9 B5B1063.2   F9 B5B1067.1   \n",
       "Booster landing           None          None          None           None   \n",
       "Date                9 May 2021   15 May 2021   26 May 2021    3 June 2021   \n",
       "Time                     06:42         22:56         18:59          17:29   \n",
       "\n",
       "                        1501  \n",
       "Flight No.               121  \n",
       "Launch site            CCSFS  \n",
       "Payload                SXM-8  \n",
       "Payload mass        7,000 kg  \n",
       "Orbit                    GTO  \n",
       "Customer                None  \n",
       "Launch outcome          None  \n",
       "Version Booster        F9 B5  \n",
       "Booster landing         None  \n",
       "Date             6 June 2021  \n",
       "Time                   04:26  \n",
       "\n",
       "[11 rows x 1502 columns]"
      ]
     },
     "execution_count": 50,
     "metadata": {},
     "output_type": "execute_result"
    }
   ],
   "source": [
    "df"
   ]
  },
  {
   "cell_type": "markdown",
   "metadata": {},
   "source": [
    "We can now export it to a <b>CSV</b> for the next section, but to make the answers consistent and in case you have difficulties finishing this lab. \n",
    "\n",
    "Following labs will be using a provided dataset to make each lab independent. \n"
   ]
  },
  {
   "cell_type": "markdown",
   "metadata": {},
   "source": [
    "<code>df.to_csv('spacex_web_scraped.csv', index=False)</code>\n"
   ]
  },
  {
   "cell_type": "markdown",
   "metadata": {},
   "source": [
    "## Authors\n"
   ]
  },
  {
   "cell_type": "markdown",
   "metadata": {},
   "source": [
    "<a href=\"https://www.linkedin.com/in/yan-luo-96288783/?utm_medium=Exinfluencer&utm_source=Exinfluencer&utm_content=000026UJ&utm_term=10006555&utm_id=NA-SkillsNetwork-Channel-SkillsNetworkCoursesIBMDS0321ENSkillsNetwork865-2023-01-01\">Yan Luo</a>\n"
   ]
  },
  {
   "cell_type": "markdown",
   "metadata": {},
   "source": [
    "<a href=\"https://www.linkedin.com/in/nayefaboutayoun/?utm_medium=Exinfluencer&utm_source=Exinfluencer&utm_content=000026UJ&utm_term=10006555&utm_id=NA-SkillsNetwork-Channel-SkillsNetworkCoursesIBMDS0321ENSkillsNetwork865-2023-01-01\">Nayef Abou Tayoun</a>\n"
   ]
  },
  {
   "cell_type": "markdown",
   "metadata": {},
   "source": [
    "## Change Log\n"
   ]
  },
  {
   "cell_type": "markdown",
   "metadata": {},
   "source": [
    "| Date (YYYY-MM-DD) | Version | Changed By | Change Description      |\n",
    "| ----------------- | ------- | ---------- | ----------------------- |\n",
    "| 2021-06-09        | 1.0     | Yan Luo    | Tasks updates           |\n",
    "| 2020-11-10        | 1.0     | Nayef      | Created the initial version |\n"
   ]
  },
  {
   "cell_type": "markdown",
   "metadata": {},
   "source": [
    "Copyright © 2021 IBM Corporation. All rights reserved.\n"
   ]
  }
 ],
 "metadata": {
  "kernelspec": {
   "display_name": "Python",
   "language": "python",
   "name": "conda-env-python-py"
  },
  "language_info": {
   "codemirror_mode": {
    "name": "ipython",
    "version": 3
   },
   "file_extension": ".py",
   "mimetype": "text/x-python",
   "name": "python",
   "nbconvert_exporter": "python",
   "pygments_lexer": "ipython3",
   "version": "3.7.12"
  }
 },
 "nbformat": 4,
 "nbformat_minor": 4
}
